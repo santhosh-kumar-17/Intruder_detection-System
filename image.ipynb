{
 "cells": [
  {
   "cell_type": "code",
   "execution_count": 3,
   "metadata": {},
   "outputs": [],
   "source": [
    "import fitz  \n",
    "import cv2\n",
    "import numpy as np\n",
    "from PIL import Image\n",
    "import io\n"
   ]
  },
  {
   "cell_type": "code",
   "execution_count": 4,
   "metadata": {},
   "outputs": [],
   "source": [
    "\n",
    "def sharpen_image_from_pixmap(pix):\n",
    "    # Convert pixmap to bytes\n",
    "    img_bytes = pix.tobytes(\"ppm\")  # Get image bytes in PPM format\n",
    "    img_array = np.frombuffer(img_bytes, dtype=np.uint8)\n",
    "\n",
    "    # Decode with OpenCV\n",
    "    img = cv2.imdecode(img_array, cv2.IMREAD_COLOR)\n",
    "\n",
    "    # Apply sharpening kernel\n",
    "    sharpen_kernel = np.array([[0, -1, 0],\n",
    "                               [-1, 5, -1],\n",
    "                               [0, -1, 0]])\n",
    "    sharpened_img = cv2.filter2D(img, -1, sharpen_kernel)\n",
    "\n",
    "    # Convert back to bytes using PIL\n",
    "    img_pil = Image.fromarray(cv2.cvtColor(sharpened_img, cv2.COLOR_BGR2RGB))\n",
    "    buf = io.BytesIO()\n",
    "    img_pil.save(buf, format=\"PNG\")\n",
    "    buf.seek(0)\n",
    "\n",
    "    # Create new pixmap from bytes\n",
    "    new_pix = fitz.Pixmap(buf)\n",
    "    return new_pix\n"
   ]
  },
  {
   "cell_type": "code",
   "execution_count": 5,
   "metadata": {},
   "outputs": [],
   "source": [
    "input_path = r\"C:\\Users\\santh\\Downloads\\Telegram Desktop\\Santhosh_Kumar_MCA.pdf\"\n",
    "outputpath = r\"C:\\Users\\santh\\Downloads\\Telegram Desktop\\Santhosh_Kumar_MCA1.pdf\""
   ]
  },
  {
   "cell_type": "code",
   "execution_count": 14,
   "metadata": {},
   "outputs": [],
   "source": [
    "import fitz  # PyMuPDF\n",
    "import numpy as np\n",
    "import cv2\n",
    "from PIL import Image\n",
    "\n",
    "def convert2_non_editable_pdfs(input_path, output_path):\n",
    "    try:\n",
    "        doc = fitz.open(input_path)\n",
    "        new_doc = fitz.open()\n",
    "\n",
    "        for i in range(len(doc)):\n",
    "            page = doc[i]\n",
    "            mat = fitz.Matrix(2, 2)  # increase resolution\n",
    "            pix = page.get_pixmap(matrix=mat, alpha=False)\n",
    "\n",
    "            # Convert pix to NumPy array\n",
    "            img = np.frombuffer(pix.samples, dtype=np.uint8).reshape(pix.height, pix.width, pix.n)\n",
    "\n",
    "            # Apply sharpening filter\n",
    "            kernel = np.array([[0,-1,0],[-1,5,-1],[0,-1,0]])\n",
    "            sharpened_img = cv2.filter2D(img, -1, kernel)\n",
    "\n",
    "            # Convert back to Pixmap using PIL\n",
    "            img_pil = Image.fromarray(sharpened_img)\n",
    "            img_rgb = img_pil.convert(\"RGB\")\n",
    "            img_bytes = img_rgb.tobytes()\n",
    "            pixmap = fitz.Pixmap(fitz.csRGB, (img_rgb.width, img_rgb.height), img_bytes)\n",
    "\n",
    "            # Add the sharpened image to a new page\n",
    "            new_page = new_doc.new_page(width=pixmap.width, height=pixmap.height)\n",
    "            new_page.insert_image(fitz.Rect(0, 0, pixmap.width, pixmap.height), pixmap=pixmap)\n",
    "\n",
    "        new_doc.save(output_path)\n",
    "        print(\"PDF has been converted to non-editable\")\n",
    "        return True\n",
    "\n",
    "    except Exception as e:\n",
    "        print(\"Exception raised in pdf conversion: \" + str(e))\n",
    "        return False\n"
   ]
  },
  {
   "cell_type": "code",
   "execution_count": 15,
   "metadata": {},
   "outputs": [
    {
     "name": "stdout",
     "output_type": "stream",
     "text": [
      "PDF has been converted to non-editable with sharpened pages.\n"
     ]
    },
    {
     "data": {
      "text/plain": [
       "True"
      ]
     },
     "execution_count": 15,
     "metadata": {},
     "output_type": "execute_result"
    }
   ],
   "source": [
    "convert2_non_editable_pdf(input_path,outputpath)"
   ]
  },
  {
   "cell_type": "code",
   "execution_count": null,
   "metadata": {},
   "outputs": [],
   "source": []
  }
 ],
 "metadata": {
  "kernelspec": {
   "display_name": "Python 3",
   "language": "python",
   "name": "python3"
  },
  "language_info": {
   "codemirror_mode": {
    "name": "ipython",
    "version": 3
   },
   "file_extension": ".py",
   "mimetype": "text/x-python",
   "name": "python",
   "nbconvert_exporter": "python",
   "pygments_lexer": "ipython3",
   "version": "3.13.0"
  }
 },
 "nbformat": 4,
 "nbformat_minor": 2
}
